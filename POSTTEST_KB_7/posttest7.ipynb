{
 "cells": [
  {
   "cell_type": "markdown",
   "metadata": {},
   "source": [
    "# POSTTEST 7\n",
    "**NAMA  : DUTA VIRA PRADHANA DIPA**\n",
    "\n",
    "**NIM   : 2009106053**"
   ]
  },
  {
   "cell_type": "markdown",
   "metadata": {},
   "source": [
    "Import Library"
   ]
  },
  {
   "cell_type": "code",
   "execution_count": 1,
   "metadata": {},
   "outputs": [],
   "source": [
    "import tensorflow as tf"
   ]
  },
  {
   "cell_type": "markdown",
   "metadata": {},
   "source": [
    "## Membuat Variabel Tensor"
   ]
  },
  {
   "cell_type": "markdown",
   "metadata": {},
   "source": [
    "Membuat sebuah tensor dengan shape(5,5) dengan nilai random yang disimpan dalam variable random_tensor"
   ]
  },
  {
   "cell_type": "code",
   "execution_count": 2,
   "metadata": {},
   "outputs": [
    {
     "data": {
      "text/plain": [
       "<tf.Tensor: shape=(5, 5), dtype=float32, numpy=\n",
       "array([[-0.00954322,  0.22430873, -1.0252323 , -0.38172796,  0.50279635],\n",
       "       [ 1.641023  , -0.00851415,  0.00312497, -1.2649603 ,  0.38008437],\n",
       "       [-0.32529703, -0.7273944 ,  0.4269173 ,  0.2741184 ,  1.8353487 ],\n",
       "       [-0.2302495 ,  1.9381753 , -2.5721958 , -0.14674285, -0.4496302 ],\n",
       "       [ 0.789963  ,  0.38593182, -0.6944267 ,  1.1335968 , -1.2476934 ]],\n",
       "      dtype=float32)>"
      ]
     },
     "execution_count": 2,
     "metadata": {},
     "output_type": "execute_result"
    }
   ],
   "source": [
    "random_tensor = tf.random.normal([5,5])\n",
    "random_tensor"
   ]
  },
  {
   "cell_type": "markdown",
   "metadata": {},
   "source": [
    "Membuat sebuah tensor dengan shape(5,5) dari sebuah list dengan nilai bilangan prima dalam variable prime_tensor"
   ]
  },
  {
   "cell_type": "code",
   "execution_count": 3,
   "metadata": {},
   "outputs": [
    {
     "data": {
      "text/plain": [
       "<tf.Tensor: shape=(5, 5), dtype=float32, numpy=\n",
       "array([[ 2.,  3.,  5.,  7., 11.],\n",
       "       [13., 17., 19., 23., 29.],\n",
       "       [31., 37., 41., 43., 47.],\n",
       "       [53., 59., 61., 67., 71.],\n",
       "       [73., 79., 83., 89., 97.]], dtype=float32)>"
      ]
     },
     "execution_count": 3,
     "metadata": {},
     "output_type": "execute_result"
    }
   ],
   "source": [
    "bilangan_prima = [[2, 3, 5, 7, 11],\n",
    "                [13, 17, 19, 23, 29],\n",
    "                [31, 37, 41, 43, 47],\n",
    "                [53, 59, 61, 67, 71],\n",
    "                [73, 79, 83, 89, 97]]\n",
    "prime_tensor = tf.convert_to_tensor(bilangan_prima, dtype=tf.float32)\n",
    "prime_tensor"
   ]
  },
  {
   "cell_type": "markdown",
   "metadata": {},
   "source": [
    "## Menampilkan Dimensi"
   ]
  },
  {
   "cell_type": "code",
   "execution_count": 6,
   "metadata": {},
   "outputs": [
    {
     "name": "stdout",
     "output_type": "stream",
     "text": [
      "Dimensi dari tensor random\t: (5, 5)\n",
      "Dimensi dari tensor bil. prima\t: (5, 5)\n"
     ]
    }
   ],
   "source": [
    "print(\"Dimensi dari tensor random\\t:\", random_tensor.shape)\n",
    "print(\"Dimensi dari tensor bil. prima\\t:\", prime_tensor.shape)"
   ]
  },
  {
   "cell_type": "markdown",
   "metadata": {},
   "source": [
    "## Perhitungan Aritmatika"
   ]
  },
  {
   "cell_type": "markdown",
   "metadata": {},
   "source": [
    "### Penjumlahan tensor variabel random_tensor dengan variabel prime_tensor"
   ]
  },
  {
   "cell_type": "code",
   "execution_count": 8,
   "metadata": {},
   "outputs": [
    {
     "name": "stdout",
     "output_type": "stream",
     "text": [
      "Hasil penjumlahan tensor dari variabel random_tensor dengan prime_tensor:\n",
      " [[ 1.9904568  3.2243087  3.9747677  6.618272  11.502796 ]\n",
      " [14.641023  16.991486  19.003124  21.735039  29.380085 ]\n",
      " [30.674704  36.272606  41.426918  43.274117  48.83535  ]\n",
      " [52.76975   60.938175  58.427803  66.85326   70.55037  ]\n",
      " [73.78996   79.38593   82.30557   90.1336    95.752304 ]]\n"
     ]
    }
   ],
   "source": [
    "penjumlahan = tf.add(random_tensor, prime_tensor)\n",
    "print(\"Hasil penjumlahan tensor dari variabel random_tensor dengan prime_tensor:\\n\", penjumlahan.numpy())"
   ]
  },
  {
   "cell_type": "markdown",
   "metadata": {},
   "source": [
    "### Pengurangan tensor variabel random_tensor dengan variabel prime_tensor"
   ]
  },
  {
   "cell_type": "code",
   "execution_count": 10,
   "metadata": {},
   "outputs": [
    {
     "name": "stdout",
     "output_type": "stream",
     "text": [
      "Hasil pengurangan tensor dari variabel random_tensor dengan prime_tensor:\n",
      " [[ -2.0095432  -2.7756913  -6.0252323  -7.381728  -10.497204 ]\n",
      " [-11.358977  -17.008514  -18.996876  -24.264961  -28.619915 ]\n",
      " [-31.325296  -37.727394  -40.573082  -42.725883  -45.16465  ]\n",
      " [-53.23025   -57.061825  -63.572197  -67.14674   -71.44963  ]\n",
      " [-72.21004   -78.61407   -83.69443   -87.8664    -98.247696 ]]\n"
     ]
    }
   ],
   "source": [
    "pengurangan = tf.subtract(random_tensor, prime_tensor)\n",
    "print(\"Hasil pengurangan tensor dari variabel random_tensor dengan prime_tensor:\\n\", pengurangan.numpy())"
   ]
  },
  {
   "cell_type": "markdown",
   "metadata": {},
   "source": [
    "### Perkalian tensor variabel random_tensor dengan variabel prime_tensor"
   ]
  },
  {
   "cell_type": "code",
   "execution_count": 11,
   "metadata": {},
   "outputs": [
    {
     "name": "stdout",
     "output_type": "stream",
     "text": [
      "Hasil perkalian tensor dari variabel random_tensor dengan prime_tensor:\n",
      " [[-1.90864448e-02  6.72926188e-01 -5.12616158e+00 -2.67209578e+00\n",
      "   5.53075981e+00]\n",
      " [ 2.13332996e+01 -1.44740492e-01  5.93743697e-02 -2.90940857e+01\n",
      "   1.10224466e+01]\n",
      " [-1.00842075e+01 -2.69135933e+01  1.75036106e+01  1.17870913e+01\n",
      "   8.62613907e+01]\n",
      " [-1.22032232e+01  1.14352341e+02 -1.56903946e+02 -9.83177090e+00\n",
      "  -3.19237442e+01]\n",
      " [ 5.76673012e+01  3.04886131e+01 -5.76374168e+01  1.00890114e+02\n",
      "  -1.21026260e+02]]\n"
     ]
    }
   ],
   "source": [
    "perkalian = tf.multiply(random_tensor, prime_tensor)\n",
    "print(\"Hasil perkalian tensor dari variabel random_tensor dengan prime_tensor:\\n\", perkalian.numpy())"
   ]
  },
  {
   "cell_type": "markdown",
   "metadata": {},
   "source": [
    "### Pembagian tensor variabel random_tensor dengan variabel prime_tensor"
   ]
  },
  {
   "cell_type": "code",
   "execution_count": 12,
   "metadata": {},
   "outputs": [
    {
     "name": "stdout",
     "output_type": "stream",
     "text": [
      "Hasil pembagian tensor dari variabel random_tensor dengan prime_tensor:\n",
      " [[-4.7716112e-03  7.4769579e-02 -2.0504646e-01 -5.4532565e-02\n",
      "   4.5708761e-02]\n",
      " [ 1.2623253e-01 -5.0083216e-04  1.6447193e-04 -5.4998275e-02\n",
      "   1.3106357e-02]\n",
      " [-1.0493453e-02 -1.9659309e-02  1.0412618e-02  6.3748462e-03\n",
      "   3.9049972e-02]\n",
      " [-4.3443302e-03  3.2850429e-02 -4.2167142e-02 -2.1901918e-03\n",
      "  -6.3328198e-03]\n",
      " [ 1.0821411e-02  4.8852130e-03 -8.3665866e-03  1.2737042e-02\n",
      "  -1.2862818e-02]]\n"
     ]
    }
   ],
   "source": [
    "pembagian = tf.divide(random_tensor, prime_tensor)\n",
    "print(\"Hasil pembagian tensor dari variabel random_tensor dengan prime_tensor:\\n\", pembagian.numpy())"
   ]
  },
  {
   "cell_type": "markdown",
   "metadata": {},
   "source": [
    "### Logaritma tensor variabel random_tensor dengan variabel prime_tensor"
   ]
  },
  {
   "cell_type": "code",
   "execution_count": 17,
   "metadata": {},
   "outputs": [
    {
     "name": "stdout",
     "output_type": "stream",
     "text": [
      "Hasil logaritma tensor dari variabel random_tensor dengan prime_tensor:\n",
      " [[        nan -1.4947319          nan         nan -0.68757004]\n",
      " [ 0.49531984         nan -5.7683315          nan -0.96736205]\n",
      " [        nan         nan -0.85116494 -1.2941952   0.6072345 ]\n",
      " [        nan  0.661747           nan         nan         nan]\n",
      " [-0.23576918 -0.95209455         nan  0.12539555         nan]]\n"
     ]
    }
   ],
   "source": [
    "logaritma = tf.math.log(random_tensor, prime_tensor)\n",
    "print(\"Hasil logaritma tensor dari variabel random_tensor dengan prime_tensor:\\n\", logaritma.numpy())"
   ]
  },
  {
   "cell_type": "markdown",
   "metadata": {},
   "source": [
    "### Pangkat tensor variabel random_tensor dengan variabel prime_tensor"
   ]
  },
  {
   "cell_type": "code",
   "execution_count": 19,
   "metadata": {},
   "outputs": [
    {
     "name": "stdout",
     "output_type": "stream",
     "text": [
      "Hasil pangkat tensor dari variabel random_tensor dengan prime_tensor:\n",
      " [[ 9.1073096e-05  1.1285961e-02 -1.1326909e+00 -1.1810759e-03\n",
      "   5.1917444e-04]\n",
      " [ 6.2587964e+02 -6.4923039e-36  0.0000000e+00 -2.2272476e+02\n",
      "   6.5542070e-13]\n",
      " [-7.5977140e-16 -7.6822480e-06  6.9838438e-16  6.7817485e-25\n",
      "   2.4818410e+12]\n",
      " [-1.5722816e-34  9.0404595e+16 -1.0679359e+25 -0.0000000e+00\n",
      "  -2.2528832e-25]\n",
      " [ 3.3519154e-08  2.1594164e-33 -7.1613166e-14  7.0277391e+04\n",
      "  -2.1011875e+09]]\n"
     ]
    }
   ],
   "source": [
    "pangkat = tf.pow(random_tensor, prime_tensor)\n",
    "print(\"Hasil pangkat tensor dari variabel random_tensor dengan prime_tensor:\\n\", pangkat.numpy())"
   ]
  },
  {
   "cell_type": "markdown",
   "metadata": {},
   "source": [
    "### Akar tensor variabel random_tensor dengan variabel prime_tensor"
   ]
  },
  {
   "cell_type": "code",
   "execution_count": 20,
   "metadata": {},
   "outputs": [
    {
     "name": "stdout",
     "output_type": "stream",
     "text": [
      "Hasil akar tensor dari variabel random_tensor:\n",
      " [[       nan 0.47361243        nan        nan 0.70908135]\n",
      " [1.2810242         nan 0.0559014         nan 0.61650985]\n",
      " [       nan        nan 0.6533891  0.52356315 1.3547504 ]\n",
      " [       nan 1.3921837         nan        nan        nan]\n",
      " [0.88879865 0.6212341         nan 1.064705          nan]]\n",
      "\n",
      "Hasil akar tensor dari variabel random_tensor:\n",
      " [[1.4142135 1.7320508 2.236068  2.6457512 3.3166249]\n",
      " [3.6055512 4.1231055 4.358899  4.7958317 5.3851647]\n",
      " [5.5677643 6.0827627 6.4031243 6.5574384 6.8556547]\n",
      " [7.28011   7.6811457 7.81025   8.185352  8.426149 ]\n",
      " [8.5440035 8.888194  9.110434  9.433981  9.848858 ]]\n"
     ]
    }
   ],
   "source": [
    "akar_random = tf.sqrt(random_tensor)\n",
    "print(\"Hasil akar tensor dari variabel random_tensor:\\n\", akar_random.numpy())\n",
    "akar_prime = tf.sqrt(prime_tensor)\n",
    "print(\"\\nHasil akar tensor dari variabel random_tensor:\\n\", akar_prime.numpy())"
   ]
  },
  {
   "cell_type": "markdown",
   "metadata": {},
   "source": [
    "## Nilai Maksimal dan Minimal"
   ]
  },
  {
   "cell_type": "markdown",
   "metadata": {},
   "source": [
    "### Menampilkan nilai maksimal dari variabel random_tensor"
   ]
  },
  {
   "cell_type": "code",
   "execution_count": 23,
   "metadata": {},
   "outputs": [
    {
     "name": "stdout",
     "output_type": "stream",
     "text": [
      "Nilai maksimal dari variabel random_tensor menurut kolom:  [1 3 2 4 2]\n",
      "Nilai maksimal dari variabel random_tensor menurut baris:  [4 0 4 1 3]\n"
     ]
    }
   ],
   "source": [
    "max_col = tf.argmax(random_tensor, axis=0)\n",
    "print(\"Nilai maksimal dari variabel random_tensor menurut kolom: \", max_col.numpy())\n",
    "max_row = tf.argmax(random_tensor, axis=1)\n",
    "print(\"Nilai maksimal dari variabel random_tensor menurut baris: \", max_row.numpy())"
   ]
  },
  {
   "cell_type": "markdown",
   "metadata": {},
   "source": [
    "### Menampilkan nilai minimal dari variabel random_tensor"
   ]
  },
  {
   "cell_type": "code",
   "execution_count": 24,
   "metadata": {},
   "outputs": [
    {
     "name": "stdout",
     "output_type": "stream",
     "text": [
      "Nilai minimal dari variabel random_tensor menurut kolom:  [2 2 3 1 4]\n",
      "Nilai minimal dari variabel random_tensor menurut baris:  [2 3 1 2 4]\n"
     ]
    }
   ],
   "source": [
    "min_col = tf.argmin(random_tensor, axis=0)\n",
    "print(\"Nilai minimal dari variabel random_tensor menurut kolom: \", min_col.numpy())\n",
    "min_row = tf.argmin(random_tensor, axis=1)\n",
    "print(\"Nilai minimal dari variabel random_tensor menurut baris: \", min_row.numpy())"
   ]
  },
  {
   "cell_type": "markdown",
   "metadata": {},
   "source": [
    "## Concatenation"
   ]
  },
  {
   "cell_type": "markdown",
   "metadata": {},
   "source": [
    "### Penggabungan tensor variabel random_tensor dengan prime_tensor"
   ]
  },
  {
   "cell_type": "code",
   "execution_count": 27,
   "metadata": {},
   "outputs": [
    {
     "name": "stdout",
     "output_type": "stream",
     "text": [
      "Dimensi tensor_random sebelum concat\t: (5, 5)\n",
      "Dimensi tensor_prime sebelum concat\t: (5, 5)\n",
      "Dimensi tensor_random & tensor_prime setelah concat\t: (10, 5)\n"
     ]
    }
   ],
   "source": [
    "penggabungan = tf.concat([random_tensor, prime_tensor], axis=0)\n",
    "\n",
    "print(\"Dimensi tensor_random sebelum concat\\t:\", random_tensor.shape)\n",
    "print(\"Dimensi tensor_prime sebelum concat\\t:\", prime_tensor.shape)\n",
    "print(\"Dimensi tensor_random & tensor_prime setelah concat\\t:\", penggabungan.shape)"
   ]
  },
  {
   "cell_type": "markdown",
   "metadata": {},
   "source": [
    "## Sorting Descending "
   ]
  },
  {
   "cell_type": "markdown",
   "metadata": {},
   "source": [
    "### Sorting Descending berdasarkan baris dari variabel random_tensor dan prime_tensor"
   ]
  },
  {
   "cell_type": "code",
   "execution_count": 28,
   "metadata": {},
   "outputs": [
    {
     "name": "stdout",
     "output_type": "stream",
     "text": [
      "Hasil sorting descending pada variabel random_tensor:\n",
      " [[ 0.50279635  0.22430873 -0.00954322 -0.38172796 -1.0252323 ]\n",
      " [ 1.641023    0.38008437  0.00312497 -0.00851415 -1.2649603 ]\n",
      " [ 1.8353487   0.4269173   0.2741184  -0.32529703 -0.7273944 ]\n",
      " [ 1.9381753  -0.14674285 -0.2302495  -0.4496302  -2.5721958 ]\n",
      " [ 1.1335968   0.789963    0.38593182 -0.6944267  -1.2476934 ]] \n",
      "\n",
      "Hasil sorting descending pada variabel prime_tensor:\n",
      " [[11.  7.  5.  3.  2.]\n",
      " [29. 23. 19. 17. 13.]\n",
      " [47. 43. 41. 37. 31.]\n",
      " [71. 67. 61. 59. 53.]\n",
      " [97. 89. 83. 79. 73.]]\n"
     ]
    }
   ],
   "source": [
    "random_desc = tf.sort(random_tensor, direction=\"DESCENDING\")\n",
    "prime_desc = tf.sort(prime_tensor, direction=\"DESCENDING\")\n",
    "\n",
    "print(\"Hasil sorting descending pada variabel random_tensor:\\n\",random_desc.numpy(),\"\\n\")\n",
    "print(\"Hasil sorting descending pada variabel prime_tensor:\\n\",prime_desc.numpy())"
   ]
  }
 ],
 "metadata": {
  "kernelspec": {
   "display_name": "Python 3.10.7 64-bit",
   "language": "python",
   "name": "python3"
  },
  "language_info": {
   "codemirror_mode": {
    "name": "ipython",
    "version": 3
   },
   "file_extension": ".py",
   "mimetype": "text/x-python",
   "name": "python",
   "nbconvert_exporter": "python",
   "pygments_lexer": "ipython3",
   "version": "3.10.7"
  },
  "orig_nbformat": 4,
  "vscode": {
   "interpreter": {
    "hash": "a9cff5a362bc38ef45d817ae74b1af54d6a076e3d773891282bce078b815ba34"
   }
  }
 },
 "nbformat": 4,
 "nbformat_minor": 2
}
